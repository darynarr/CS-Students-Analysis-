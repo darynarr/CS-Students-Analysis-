{
 "cells": [
  {
   "cell_type": "code",
   "execution_count": 1,
   "metadata": {},
   "outputs": [],
   "source": [
    "import pandas as pd\n",
    "import numpy as np\n",
    "from scipy import stats\n",
    "import seaborn as sns\n",
    "import matplotlib.pyplot as plt\n",
    "from functools import reduce"
   ]
  },
  {
   "cell_type": "code",
   "execution_count": 2,
   "metadata": {},
   "outputs": [],
   "source": [
    "sns.set(palette ='Set2', style = 'darkgrid')"
   ]
  },
  {
   "cell_type": "code",
   "execution_count": 3,
   "metadata": {},
   "outputs": [],
   "source": [
    "INPUT_PATH = 'data/input'\n",
    "TRANSFORM_PATH = 'data/transformations'"
   ]
  },
  {
   "cell_type": "code",
   "execution_count": 4,
   "metadata": {},
   "outputs": [],
   "source": [
    "df = pd.read_csv(f'{TRANSFORM_PATH}/pool.csv')"
   ]
  },
  {
   "cell_type": "code",
   "execution_count": 5,
   "metadata": {},
   "outputs": [],
   "source": [
    "grade_col = 'Оцінка з математичої дисципліни'"
   ]
  },
  {
   "cell_type": "code",
   "execution_count": 6,
   "metadata": {},
   "outputs": [],
   "source": [
    "x = df[grade_col].copy()"
   ]
  },
  {
   "cell_type": "markdown",
   "metadata": {},
   "source": [
    "## В рамках тесту 1 сформулювати задачу розподілу мотивацій для свого курсів як задачу перевірки статистичних гіпотез про розподіл даних,  розвязати вручну (Excel),  використати критерій Пірсона"
   ]
  },
  {
   "cell_type": "code",
   "execution_count": 7,
   "metadata": {},
   "outputs": [
    {
     "data": {
      "image/png": "[encoded data removed]",
      "text/plain": [
       "<Figure size 432x288 with 1 Axes>"
      ]
     },
     "metadata": {},
     "output_type": "display_data"
    }
   ],
   "source": [
    "bin_size = 5\n",
    "n_bins = (x.max() - x.min()) // bin_size\n",
    "x.hist(bins = n_bins)\n",
    "plt.title('Гістограма\\n' + grade_col);"
   ]
  },
  {
   "cell_type": "code",
   "execution_count": 8,
   "metadata": {},
   "outputs": [
    {
     "data": {
      "text/plain": [
       "(59.96, 65.0]    14\n",
       "(65.0, 70.0]     18\n",
       "(70.0, 75.0]      9\n",
       "(75.0, 80.0]     19\n",
       "(80.0, 85.0]     12\n",
       "(85.0, 90.0]     17\n",
       "(90.0, 95.0]      6\n",
       "(95.0, 100.0]     6\n",
       "Name: Оцінка з математичої дисципліни, dtype: int64"
      ]
     },
     "execution_count": 8,
     "metadata": {},
     "output_type": "execute_result"
    }
   ],
   "source": [
    "val_counts = pd.cut(x, bins = n_bins, labels=[i for i in range(65, 101, 5)]).value_counts().sort_index()\n",
    "pd.cut(x, bins = n_bins).value_counts().sort_index()"
   ]
  },
  {
   "cell_type": "code",
   "execution_count": 9,
   "metadata": {},
   "outputs": [
    {
     "data": {
      "text/html": [
       "<div>\n",
       "<style scoped>\n",
       "    .dataframe tbody tr th:only-of-type {\n",
       "        vertical-align: middle;\n",
       "    }\n",
       "\n",
       "    .dataframe tbody tr th {\n",
       "        vertical-align: top;\n",
       "    }\n",
       "\n",
       "    .dataframe thead th {\n",
       "        text-align: right;\n",
       "    }\n",
       "</style>\n",
       "<table border=\"1\" class=\"dataframe\">\n",
       "  <thead>\n",
       "    <tr style=\"text-align: right;\">\n",
       "      <th></th>\n",
       "      <th>x_i</th>\n",
       "      <th>m_i</th>\n",
       "    </tr>\n",
       "  </thead>\n",
       "  <tbody>\n",
       "    <tr>\n",
       "      <th>0</th>\n",
       "      <td>65</td>\n",
       "      <td>14</td>\n",
       "    </tr>\n",
       "    <tr>\n",
       "      <th>1</th>\n",
       "      <td>70</td>\n",
       "      <td>18</td>\n",
       "    </tr>\n",
       "    <tr>\n",
       "      <th>2</th>\n",
       "      <td>75</td>\n",
       "      <td>9</td>\n",
       "    </tr>\n",
       "    <tr>\n",
       "      <th>3</th>\n",
       "      <td>80</td>\n",
       "      <td>19</td>\n",
       "    </tr>\n",
       "    <tr>\n",
       "      <th>4</th>\n",
       "      <td>85</td>\n",
       "      <td>12</td>\n",
       "    </tr>\n",
       "    <tr>\n",
       "      <th>5</th>\n",
       "      <td>90</td>\n",
       "      <td>17</td>\n",
       "    </tr>\n",
       "    <tr>\n",
       "      <th>6</th>\n",
       "      <td>95</td>\n",
       "      <td>6</td>\n",
       "    </tr>\n",
       "    <tr>\n",
       "      <th>7</th>\n",
       "      <td>100</td>\n",
       "      <td>6</td>\n",
       "    </tr>\n",
       "  </tbody>\n",
       "</table>\n",
       "</div>"
      ],
      "text/plain": [
       "   x_i  m_i\n",
       "0   65   14\n",
       "1   70   18\n",
       "2   75    9\n",
       "3   80   19\n",
       "4   85   12\n",
       "5   90   17\n",
       "6   95    6\n",
       "7  100    6"
      ]
     },
     "execution_count": 9,
     "metadata": {},
     "output_type": "execute_result"
    }
   ],
   "source": [
    "df_stats = pd.DataFrame(val_counts)\n",
    "df_stats.index.name = 'x_i'\n",
    "df_stats.rename(\n",
    "    columns={'Оцінка з математичої дисципліни' : 'm_i'},\n",
    "    inplace=True\n",
    ")\n",
    "df_stats.reset_index(inplace=True)\n",
    "df_stats['x_i'] = df_stats['x_i'].astype(int)\n",
    "\n",
    "df_stats"
   ]
  },
  {
   "cell_type": "code",
   "execution_count": 10,
   "metadata": {},
   "outputs": [],
   "source": [
    "mu, sigma = x.mean(), x.std()\n",
    "\n",
    "h= bin_size\n",
    "\n",
    "n = len(x)\n",
    "\n",
    "u_ = lambda x_i: (x_i - mu) / sigma\n",
    "phi_ = lambda u_i: (1/ np.sqrt(2 * np.pi)) \\\n",
    "                * np.exp(- ((u_i)**2) / 2)\n",
    "n_hatch_ = lambda phi_i: n*h*phi_i / sigma"
   ]
  },
  {
   "cell_type": "code",
   "execution_count": 11,
   "metadata": {},
   "outputs": [
    {
     "data": {
      "text/html": [
       "<div>\n",
       "<style scoped>\n",
       "    .dataframe tbody tr th:only-of-type {\n",
       "        vertical-align: middle;\n",
       "    }\n",
       "\n",
       "    .dataframe tbody tr th {\n",
       "        vertical-align: top;\n",
       "    }\n",
       "\n",
       "    .dataframe thead th {\n",
       "        text-align: right;\n",
       "    }\n",
       "</style>\n",
       "<table border=\"1\" class=\"dataframe\">\n",
       "  <thead>\n",
       "    <tr style=\"text-align: right;\">\n",
       "      <th></th>\n",
       "      <th>x_i</th>\n",
       "      <th>m_i</th>\n",
       "      <th>u_i</th>\n",
       "      <th>phi_i</th>\n",
       "      <th>n_i'</th>\n",
       "    </tr>\n",
       "  </thead>\n",
       "  <tbody>\n",
       "    <tr>\n",
       "      <th>0</th>\n",
       "      <td>65</td>\n",
       "      <td>14</td>\n",
       "      <td>-1.160388</td>\n",
       "      <td>0.203480</td>\n",
       "      <td>9.596072</td>\n",
       "    </tr>\n",
       "    <tr>\n",
       "      <th>1</th>\n",
       "      <td>70</td>\n",
       "      <td>18</td>\n",
       "      <td>-0.693459</td>\n",
       "      <td>0.313680</td>\n",
       "      <td>14.793107</td>\n",
       "    </tr>\n",
       "    <tr>\n",
       "      <th>2</th>\n",
       "      <td>75</td>\n",
       "      <td>9</td>\n",
       "      <td>-0.226530</td>\n",
       "      <td>0.388836</td>\n",
       "      <td>18.337463</td>\n",
       "    </tr>\n",
       "    <tr>\n",
       "      <th>3</th>\n",
       "      <td>80</td>\n",
       "      <td>19</td>\n",
       "      <td>0.240399</td>\n",
       "      <td>0.387579</td>\n",
       "      <td>18.278184</td>\n",
       "    </tr>\n",
       "    <tr>\n",
       "      <th>4</th>\n",
       "      <td>85</td>\n",
       "      <td>12</td>\n",
       "      <td>0.707328</td>\n",
       "      <td>0.310648</td>\n",
       "      <td>14.650105</td>\n",
       "    </tr>\n",
       "    <tr>\n",
       "      <th>5</th>\n",
       "      <td>90</td>\n",
       "      <td>17</td>\n",
       "      <td>1.174257</td>\n",
       "      <td>0.200212</td>\n",
       "      <td>9.441964</td>\n",
       "    </tr>\n",
       "    <tr>\n",
       "      <th>6</th>\n",
       "      <td>95</td>\n",
       "      <td>6</td>\n",
       "      <td>1.641186</td>\n",
       "      <td>0.103759</td>\n",
       "      <td>4.893255</td>\n",
       "    </tr>\n",
       "    <tr>\n",
       "      <th>7</th>\n",
       "      <td>100</td>\n",
       "      <td>6</td>\n",
       "      <td>2.108115</td>\n",
       "      <td>0.043239</td>\n",
       "      <td>2.039141</td>\n",
       "    </tr>\n",
       "  </tbody>\n",
       "</table>\n",
       "</div>"
      ],
      "text/plain": [
       "   x_i  m_i       u_i     phi_i       n_i'\n",
       "0   65   14 -1.160388  0.203480   9.596072\n",
       "1   70   18 -0.693459  0.313680  14.793107\n",
       "2   75    9 -0.226530  0.388836  18.337463\n",
       "3   80   19  0.240399  0.387579  18.278184\n",
       "4   85   12  0.707328  0.310648  14.650105\n",
       "5   90   17  1.174257  0.200212   9.441964\n",
       "6   95    6  1.641186  0.103759   4.893255\n",
       "7  100    6  2.108115  0.043239   2.039141"
      ]
     },
     "execution_count": 11,
     "metadata": {},
     "output_type": "execute_result"
    }
   ],
   "source": [
    "df_stats['u_i'] = df_stats['x_i'].apply(lambda x: u_(x))\n",
    "df_stats['phi_i'] = df_stats['u_i'].apply(lambda u: phi_(u))\n",
    "df_stats[\"n_i'\"] = df_stats['phi_i'].apply(lambda phi: n_hatch_(phi))\n",
    "df_stats"
   ]
  },
  {
   "cell_type": "code",
   "execution_count": 12,
   "metadata": {},
   "outputs": [
    {
     "data": {
      "text/plain": [
       "5"
      ]
     },
     "execution_count": 12,
     "metadata": {},
     "output_type": "execute_result"
    }
   ],
   "source": [
    "# calculate degrees of freedom\n",
    "\n",
    "n = len(df_stats['x_i']) # number of observation categories\n",
    "k = 2 # number of parameters; our parameters are mu and sigma\n",
    "\n",
    "ddof = n - k - 1\n",
    "ddof"
   ]
  },
  {
   "cell_type": "code",
   "execution_count": 13,
   "metadata": {},
   "outputs": [
    {
     "name": "stdout",
     "output_type": "stream",
     "text": [
      "chi2_real: 21.972791655020224\n",
      "chi2_critical: 11.070497693516351\n"
     ]
    }
   ],
   "source": [
    "chi2_real = np.sum(\n",
    "    ((df_stats['m_i'] - df_stats[\"n_i'\"])**2) / df_stats[\"n_i'\"])\n",
    "\n",
    "chi2_critical = stats.chi2.ppf(0.95, ddof)\n",
    "\n",
    "print('chi2_real:', chi2_real)\n",
    "print('chi2_critical:', chi2_critical)"
   ]
  },
  {
   "cell_type": "markdown",
   "metadata": {},
   "source": [
    "Оскільки chi2 наближене більше за chi2 критичне, гіпотезу про нормальний розподіл генеральної сукупності відкидаємо (емпіричні та теоретичні частоти відрізняються значно)."
   ]
  },
  {
   "cell_type": "markdown",
   "metadata": {},
   "source": [
    "## В рамках тесту 2 сформулювати задачу порівняння мотивацій для різних курсів як задачу перевірки статистичних гіпотез про однорідність даних,  розвязати вручну (Excel),  використати:\n",
    "- Т-критерій Стьюдента, \n",
    "- критерій знаків, \n",
    "- критерій Вілкоксона\n",
    "- критерій Мана-Уітні."
   ]
  },
  {
   "cell_type": "markdown",
   "metadata": {},
   "source": [
    "### Т-критерій Стьюдента"
   ]
  },
  {
   "cell_type": "markdown",
   "metadata": {},
   "source": [
    "Нульова гіпотеза: математичні очікування вибірок рівні."
   ]
  },
  {
   "cell_type": "code",
   "execution_count": 14,
   "metadata": {
    "scrolled": true
   },
   "outputs": [
    {
     "data": {
      "text/html": [
       "<div>\n",
       "<style scoped>\n",
       "    .dataframe tbody tr th:only-of-type {\n",
       "        vertical-align: middle;\n",
       "    }\n",
       "\n",
       "    .dataframe tbody tr th {\n",
       "        vertical-align: top;\n",
       "    }\n",
       "\n",
       "    .dataframe thead th {\n",
       "        text-align: right;\n",
       "    }\n",
       "</style>\n",
       "<table border=\"1\" class=\"dataframe\">\n",
       "  <thead>\n",
       "    <tr style=\"text-align: right;\">\n",
       "      <th></th>\n",
       "      <th>Курс</th>\n",
       "      <th>Стать</th>\n",
       "      <th>Оцінка з математичої дисципліни</th>\n",
       "      <th>Оцінка з гуманітарної дисципліни</th>\n",
       "      <th>Оцінка з дисципліни за спеціальністю</th>\n",
       "      <th>1.Коли починаю будь-яку роботу, як правило, сподіваюся на успіх</th>\n",
       "      <th>2.Під час діяльності виявляю активність</th>\n",
       "      <th>3.Маю схильність до виявлення ініціативи</th>\n",
       "      <th>4.Під час виконання відповідальних завдань намагаюся, якщо це можливо, знайти причини відмовитися від них</th>\n",
       "      <th>5.Часто обираю крайнощі: або надто легкі, або занадто важкі завдання</th>\n",
       "      <th>...</th>\n",
       "      <th>25.Тому що хочу принести більше користі суспільству;</th>\n",
       "      <th>26.Щоб стати висококваліфікованим спеціалістом;</th>\n",
       "      <th>27.Щоб дізнаватися нове, займатися творчою діяльністю;</th>\n",
       "      <th>28.Щоб дати відповіді на проблеми розвитку суспільства, життєдіяльності людей;</th>\n",
       "      <th>29.Щоб бути «на хорошому рахунку» у викладачів;</th>\n",
       "      <th>30.Щоб досягти схвалення батьків та оточуючих;</th>\n",
       "      <th>31.Заради виконання обов’язку перед батьками, школою;</th>\n",
       "      <th>32.Тому що знання додають мені впевненості в собі;</th>\n",
       "      <th>33.Тому що від успіхів у навчанні залежить моє майбутнє службове становище;</th>\n",
       "      <th>34.Бо хочу отримати диплом із гарними оцінками, щоб мати перевагу над іншими.</th>\n",
       "    </tr>\n",
       "  </thead>\n",
       "  <tbody>\n",
       "    <tr>\n",
       "      <th>0</th>\n",
       "      <td>1</td>\n",
       "      <td>ж</td>\n",
       "      <td>100</td>\n",
       "      <td>74</td>\n",
       "      <td>95</td>\n",
       "      <td>ні</td>\n",
       "      <td>так</td>\n",
       "      <td>так</td>\n",
       "      <td>так</td>\n",
       "      <td>так</td>\n",
       "      <td>...</td>\n",
       "      <td>2.0</td>\n",
       "      <td>4</td>\n",
       "      <td>2</td>\n",
       "      <td>4</td>\n",
       "      <td>5</td>\n",
       "      <td>5.0</td>\n",
       "      <td>1</td>\n",
       "      <td>5</td>\n",
       "      <td>2</td>\n",
       "      <td>5</td>\n",
       "    </tr>\n",
       "    <tr>\n",
       "      <th>1</th>\n",
       "      <td>1</td>\n",
       "      <td>ч</td>\n",
       "      <td>86</td>\n",
       "      <td>80</td>\n",
       "      <td>88</td>\n",
       "      <td>так</td>\n",
       "      <td>так</td>\n",
       "      <td>ні</td>\n",
       "      <td>так</td>\n",
       "      <td>так</td>\n",
       "      <td>...</td>\n",
       "      <td>3.0</td>\n",
       "      <td>5</td>\n",
       "      <td>5</td>\n",
       "      <td>3</td>\n",
       "      <td>3</td>\n",
       "      <td>3.0</td>\n",
       "      <td>3</td>\n",
       "      <td>3</td>\n",
       "      <td>3</td>\n",
       "      <td>3</td>\n",
       "    </tr>\n",
       "    <tr>\n",
       "      <th>2</th>\n",
       "      <td>1</td>\n",
       "      <td>ж</td>\n",
       "      <td>82</td>\n",
       "      <td>94</td>\n",
       "      <td>89</td>\n",
       "      <td>так</td>\n",
       "      <td>так</td>\n",
       "      <td>так</td>\n",
       "      <td>так</td>\n",
       "      <td>так</td>\n",
       "      <td>...</td>\n",
       "      <td>3.0</td>\n",
       "      <td>5</td>\n",
       "      <td>3</td>\n",
       "      <td>3</td>\n",
       "      <td>4</td>\n",
       "      <td>3.0</td>\n",
       "      <td>3</td>\n",
       "      <td>4</td>\n",
       "      <td>4</td>\n",
       "      <td>4</td>\n",
       "    </tr>\n",
       "    <tr>\n",
       "      <th>3</th>\n",
       "      <td>1</td>\n",
       "      <td>ч</td>\n",
       "      <td>76</td>\n",
       "      <td>76</td>\n",
       "      <td>76</td>\n",
       "      <td>ні</td>\n",
       "      <td>ні</td>\n",
       "      <td>так</td>\n",
       "      <td>так</td>\n",
       "      <td>так</td>\n",
       "      <td>...</td>\n",
       "      <td>4.0</td>\n",
       "      <td>3</td>\n",
       "      <td>5</td>\n",
       "      <td>4</td>\n",
       "      <td>4</td>\n",
       "      <td>4.0</td>\n",
       "      <td>4</td>\n",
       "      <td>4</td>\n",
       "      <td>5</td>\n",
       "      <td>3</td>\n",
       "    </tr>\n",
       "    <tr>\n",
       "      <th>4</th>\n",
       "      <td>1</td>\n",
       "      <td>ж</td>\n",
       "      <td>71</td>\n",
       "      <td>71</td>\n",
       "      <td>71</td>\n",
       "      <td>ні</td>\n",
       "      <td>ні</td>\n",
       "      <td>так</td>\n",
       "      <td>так</td>\n",
       "      <td>ні</td>\n",
       "      <td>...</td>\n",
       "      <td>4.0</td>\n",
       "      <td>5</td>\n",
       "      <td>3</td>\n",
       "      <td>4</td>\n",
       "      <td>3</td>\n",
       "      <td>5.0</td>\n",
       "      <td>3</td>\n",
       "      <td>3</td>\n",
       "      <td>3</td>\n",
       "      <td>4</td>\n",
       "    </tr>\n",
       "  </tbody>\n",
       "</table>\n",
       "<p>5 rows × 119 columns</p>\n",
       "</div>"
      ],
      "text/plain": [
       "   Курс Стать  Оцінка з математичої дисципліни  \\\n",
       "0     1     ж                              100   \n",
       "1     1     ч                               86   \n",
       "2     1     ж                               82   \n",
       "3     1     ч                               76   \n",
       "4     1     ж                               71   \n",
       "\n",
       "   Оцінка з гуманітарної дисципліни  Оцінка з дисципліни за спеціальністю  \\\n",
       "0                                74                                    95   \n",
       "1                                80                                    88   \n",
       "2                                94                                    89   \n",
       "3                                76                                    76   \n",
       "4                                71                                    71   \n",
       "\n",
       "  1.Коли починаю будь-яку роботу, як правило, сподіваюся на успіх  \\\n",
       "0                                                 ні                \n",
       "1                                                так                \n",
       "2                                                так                \n",
       "3                                                 ні                \n",
       "4                                                 ні                \n",
       "\n",
       "  2.Під час діяльності виявляю активність  \\\n",
       "0                                     так   \n",
       "1                                     так   \n",
       "2                                     так   \n",
       "3                                      ні   \n",
       "4                                      ні   \n",
       "\n",
       "  3.Маю схильність до виявлення ініціативи  \\\n",
       "0                                      так   \n",
       "1                                       ні   \n",
       "2                                      так   \n",
       "3                                      так   \n",
       "4                                      так   \n",
       "\n",
       "  4.Під час виконання відповідальних завдань намагаюся, якщо це можливо, знайти причини відмовитися від них  \\\n",
       "0                                                так                                                          \n",
       "1                                                так                                                          \n",
       "2                                                так                                                          \n",
       "3                                                так                                                          \n",
       "4                                                так                                                          \n",
       "\n",
       "  5.Часто обираю крайнощі: або надто легкі, або занадто важкі завдання  ...  \\\n",
       "0                                                так                    ...   \n",
       "1                                                так                    ...   \n",
       "2                                                так                    ...   \n",
       "3                                                так                    ...   \n",
       "4                                                 ні                    ...   \n",
       "\n",
       "  25.Тому що хочу принести більше користі суспільству;  \\\n",
       "0                                                2.0     \n",
       "1                                                3.0     \n",
       "2                                                3.0     \n",
       "3                                                4.0     \n",
       "4                                                4.0     \n",
       "\n",
       "  26.Щоб стати висококваліфікованим спеціалістом;  \\\n",
       "0                                               4   \n",
       "1                                               5   \n",
       "2                                               5   \n",
       "3                                               3   \n",
       "4                                               5   \n",
       "\n",
       "  27.Щоб дізнаватися нове, займатися творчою діяльністю;  \\\n",
       "0                                                  2       \n",
       "1                                                  5       \n",
       "2                                                  3       \n",
       "3                                                  5       \n",
       "4                                                  3       \n",
       "\n",
       "  28.Щоб дати відповіді на проблеми розвитку суспільства, життєдіяльності людей;  \\\n",
       "0                                                  4                               \n",
       "1                                                  3                               \n",
       "2                                                  3                               \n",
       "3                                                  4                               \n",
       "4                                                  4                               \n",
       "\n",
       "  29.Щоб бути «на хорошому рахунку» у викладачів;  \\\n",
       "0                                               5   \n",
       "1                                               3   \n",
       "2                                               4   \n",
       "3                                               4   \n",
       "4                                               3   \n",
       "\n",
       "  30.Щоб досягти схвалення батьків та оточуючих;  \\\n",
       "0                                            5.0   \n",
       "1                                            3.0   \n",
       "2                                            3.0   \n",
       "3                                            4.0   \n",
       "4                                            5.0   \n",
       "\n",
       "  31.Заради виконання обов’язку перед батьками, школою;  \\\n",
       "0                                                  1      \n",
       "1                                                  3      \n",
       "2                                                  3      \n",
       "3                                                  4      \n",
       "4                                                  3      \n",
       "\n",
       "  32.Тому що знання додають мені впевненості в собі;  \\\n",
       "0                                                  5   \n",
       "1                                                  3   \n",
       "2                                                  4   \n",
       "3                                                  4   \n",
       "4                                                  3   \n",
       "\n",
       "  33.Тому що від успіхів у навчанні залежить моє майбутнє службове становище;  \\\n",
       "0                                                  2                            \n",
       "1                                                  3                            \n",
       "2                                                  4                            \n",
       "3                                                  5                            \n",
       "4                                                  3                            \n",
       "\n",
       "  34.Бо хочу отримати диплом із гарними оцінками, щоб мати перевагу над іншими.  \n",
       "0                                                  5                             \n",
       "1                                                  3                             \n",
       "2                                                  4                             \n",
       "3                                                  3                             \n",
       "4                                                  4                             \n",
       "\n",
       "[5 rows x 119 columns]"
      ]
     },
     "execution_count": 14,
     "metadata": {},
     "output_type": "execute_result"
    }
   ],
   "source": [
    "df.head()"
   ]
  },
  {
   "cell_type": "code",
   "execution_count": 15,
   "metadata": {},
   "outputs": [
    {
     "name": "stdout",
     "output_type": "stream",
     "text": [
      "Порівняємо оцінки х1 1-2 курсів (к-ть студнетів - 40) з оцінками х2 3-4 курсів (к-ть студнетів - 40).\n"
     ]
    }
   ],
   "source": [
    "n_students=40\n",
    "x1 = df[df['Курс'].isin([1,2])][grade_col].iloc[:n_students]\n",
    "x2 = df[df['Курс'].isin([2,3])][grade_col].iloc[:n_students]\n",
    "\n",
    "print(f'Порівняємо оцінки х1 1-2 курсів (к-ть студнетів - {len(x1)}) \\\n",
    "з оцінками х2 3-4 курсів (к-ть студнетів - {len(x2)}).')"
   ]
  },
  {
   "cell_type": "code",
   "execution_count": 16,
   "metadata": {},
   "outputs": [
    {
     "name": "stdout",
     "output_type": "stream",
     "text": [
      "x1 mean: 80.30\n",
      "x2 mean: 77.15\n"
     ]
    }
   ],
   "source": [
    "print(f'x1 mean: {x1.mean():.2f}')\n",
    "print(f'x2 mean: {x2.mean():.2f}')"
   ]
  },
  {
   "cell_type": "markdown",
   "metadata": {},
   "source": [
    "H0: вибірки є однаковими"
   ]
  },
  {
   "cell_type": "code",
   "execution_count": 17,
   "metadata": {},
   "outputs": [],
   "source": [
    "mu1, mu2 = x1.mean(), x2.mean()\n",
    "var1, var2 = x1.var(), x2.var()\n",
    "n1, n2 = len(x1), len(x2)\n",
    "\n",
    "s_p = np.sqrt(((n1-1)*var1 + (n2-1)*var2) / (n1+n2-2))\n",
    "\n",
    "t_real = (mu1 - mu2) / (s_p * np.sqrt(1/n1 + 1/n2))\n",
    "t_crit = stats.t.ppf(0.975,n_students*2-2)"
   ]
  },
  {
   "cell_type": "code",
   "execution_count": 18,
   "metadata": {
    "scrolled": true
   },
   "outputs": [
    {
     "name": "stdout",
     "output_type": "stream",
     "text": [
      "t_real: 1.3360593133700132\n",
      "t_crit: 1.990847068555052\n"
     ]
    }
   ],
   "source": [
    "print('t_real:' , t_real)\n",
    "print('t_crit:' , t_crit)"
   ]
  },
  {
   "cell_type": "markdown",
   "metadata": {},
   "source": [
    "Оскільки t-критерій має значення менше за t критичне => не можемо відхилити нульову гіпотезу про рівність математичних очікувань вибірок"
   ]
  },
  {
   "cell_type": "markdown",
   "metadata": {},
   "source": [
    "### критерій знаків"
   ]
  },
  {
   "cell_type": "markdown",
   "metadata": {},
   "source": [
    "Нульова гіпотеза: медіани вибірок рівні."
   ]
  },
  {
   "cell_type": "code",
   "execution_count": 19,
   "metadata": {},
   "outputs": [],
   "source": [
    "x1, x2 = np.asarray(x1), np.asarray(x2)"
   ]
  },
  {
   "cell_type": "code",
   "execution_count": 20,
   "metadata": {},
   "outputs": [
    {
     "name": "stdout",
     "output_type": "stream",
     "text": [
      "x1 median: 81.50\n",
      "x2 median: 78.00\n"
     ]
    }
   ],
   "source": [
    "print(f'x1 median: {np.median(x1):.2f}')\n",
    "print(f'x2 median: {np.median(x2):.2f}')"
   ]
  },
  {
   "cell_type": "code",
   "execution_count": 21,
   "metadata": {},
   "outputs": [
    {
     "data": {
      "text/html": [
       "<div>\n",
       "<style scoped>\n",
       "    .dataframe tbody tr th:only-of-type {\n",
       "        vertical-align: middle;\n",
       "    }\n",
       "\n",
       "    .dataframe tbody tr th {\n",
       "        vertical-align: top;\n",
       "    }\n",
       "\n",
       "    .dataframe thead th {\n",
       "        text-align: right;\n",
       "    }\n",
       "</style>\n",
       "<table border=\"1\" class=\"dataframe\">\n",
       "  <thead>\n",
       "    <tr style=\"text-align: right;\">\n",
       "      <th></th>\n",
       "      <th>x1</th>\n",
       "      <th>x2</th>\n",
       "      <th>x1 - x2</th>\n",
       "      <th>sign</th>\n",
       "    </tr>\n",
       "  </thead>\n",
       "  <tbody>\n",
       "    <tr>\n",
       "      <th>0</th>\n",
       "      <td>100</td>\n",
       "      <td>89</td>\n",
       "      <td>11</td>\n",
       "      <td>1</td>\n",
       "    </tr>\n",
       "    <tr>\n",
       "      <th>1</th>\n",
       "      <td>86</td>\n",
       "      <td>87</td>\n",
       "      <td>-1</td>\n",
       "      <td>-1</td>\n",
       "    </tr>\n",
       "    <tr>\n",
       "      <th>2</th>\n",
       "      <td>82</td>\n",
       "      <td>87</td>\n",
       "      <td>-5</td>\n",
       "      <td>-1</td>\n",
       "    </tr>\n",
       "    <tr>\n",
       "      <th>3</th>\n",
       "      <td>76</td>\n",
       "      <td>78</td>\n",
       "      <td>-2</td>\n",
       "      <td>-1</td>\n",
       "    </tr>\n",
       "    <tr>\n",
       "      <th>4</th>\n",
       "      <td>71</td>\n",
       "      <td>63</td>\n",
       "      <td>8</td>\n",
       "      <td>1</td>\n",
       "    </tr>\n",
       "  </tbody>\n",
       "</table>\n",
       "</div>"
      ],
      "text/plain": [
       "    x1  x2  x1 - x2  sign\n",
       "0  100  89       11     1\n",
       "1   86  87       -1    -1\n",
       "2   82  87       -5    -1\n",
       "3   76  78       -2    -1\n",
       "4   71  63        8     1"
      ]
     },
     "execution_count": 21,
     "metadata": {},
     "output_type": "execute_result"
    }
   ],
   "source": [
    "df_sign = pd.DataFrame({\n",
    "    'x1': x1,\n",
    "    'x2': x2,\n",
    "    'x1 - x2': x1 - x2\n",
    "})\n",
    "\n",
    "df_sign['sign']= np.sign(df_sign['x1 - x2'])\n",
    "\n",
    "df_sign.head()"
   ]
  },
  {
   "cell_type": "code",
   "execution_count": 22,
   "metadata": {},
   "outputs": [
    {
     "data": {
      "text/plain": [
       "39"
      ]
     },
     "execution_count": 22,
     "metadata": {},
     "output_type": "execute_result"
    }
   ],
   "source": [
    "n = sum(df_sign['sign'] != 0)\n",
    "n"
   ]
  },
  {
   "cell_type": "code",
   "execution_count": 23,
   "metadata": {},
   "outputs": [],
   "source": [
    "def factorial(n):\n",
    "    return reduce((lambda x,y: x*y),range(1,n+1))"
   ]
  },
  {
   "cell_type": "code",
   "execution_count": 24,
   "metadata": {},
   "outputs": [
    {
     "name": "stdout",
     "output_type": "stream",
     "text": [
      "p_val = 0.12537068761957926\n"
     ]
    }
   ],
   "source": [
    "prob = 0.5 # probability od success\n",
    "n_pos, n_neg = sum(df_sign['sign'] < 0), sum(df_sign['sign'] < 0)\n",
    "\n",
    "def combination_ (n, k):\n",
    "    return factorial(n) / (factorial(k) * factorial(n-k))\n",
    "\n",
    "binom_ = lambda p, x, n: combination_(n, x) * (p**x * (1-p)**(n-x))\n",
    "p_val = binom_(prob, n_pos, n)\n",
    "print('p_val =', p_val)"
   ]
  },
  {
   "cell_type": "markdown",
   "metadata": {},
   "source": [
    "Оскільки p-значення більше за задане альфа (0.05), ми не можемо відхилити нульову гіпотезу про те, що вибірки мають однакові медіани."
   ]
  },
  {
   "cell_type": "markdown",
   "metadata": {},
   "source": [
    "### критерій Вілкоксона"
   ]
  },
  {
   "cell_type": "markdown",
   "metadata": {},
   "source": [
    "Нульова гіпотеза: середні обох виборок співпадають"
   ]
  },
  {
   "cell_type": "code",
   "execution_count": 25,
   "metadata": {},
   "outputs": [
    {
     "name": "stdout",
     "output_type": "stream",
     "text": [
      "p_val = 0.3531634032771521\n"
     ]
    }
   ],
   "source": [
    "p_val = stats.wilcoxon(x1, x2).pvalue\n",
    "print('p_val =', p_val)"
   ]
  },
  {
   "cell_type": "markdown",
   "metadata": {},
   "source": [
    "Оскільки p-значення більше за задане альфа (0.05), ми не можемо відхилити нульову гіпотезу про те, що вибірки мають однакові середні."
   ]
  },
  {
   "cell_type": "markdown",
   "metadata": {},
   "source": [
    "### критерій Мана-Уітні."
   ]
  },
  {
   "cell_type": "markdown",
   "metadata": {},
   "source": [
    "Нульова гіпотеза: розподіли генеральних сукупностей співпадають"
   ]
  },
  {
   "cell_type": "code",
   "execution_count": 26,
   "metadata": {},
   "outputs": [
    {
     "name": "stdout",
     "output_type": "stream",
     "text": [
      "p_val = 0.10680169681308127\n"
     ]
    }
   ],
   "source": [
    "p_val = stats.mannwhitneyu(x1, x2).pvalue\n",
    "print('p_val =', p_val)"
   ]
  },
  {
   "cell_type": "markdown",
   "metadata": {},
   "source": [
    "Оскільки p-значення більше за задане альфа (0.05), ми не можемо відхилити нульову гіпотезу про те, що розподіли генеральних сукупностей співпадають"
   ]
  },
  {
   "cell_type": "code",
   "execution_count": null,
   "metadata": {},
   "outputs": [],
   "source": []
  }
 ],
 "metadata": {
  "kernelspec": {
   "display_name": "Python 3",
   "language": "python",
   "name": "python3"
  },
  "language_info": {
   "codemirror_mode": {
    "name": "ipython",
    "version": 3
   },
   "file_extension": ".py",
   "mimetype": "text/x-python",
   "name": "python",
   "nbconvert_exporter": "python",
   "pygments_lexer": "ipython3",
   "version": "3.7.4"
  }
 },
 "nbformat": 4,
 "nbformat_minor": 2
}
