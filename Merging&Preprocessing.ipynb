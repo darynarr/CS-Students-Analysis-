{
 "cells": [
  {
   "cell_type": "code",
   "execution_count": 1,
   "metadata": {},
   "outputs": [],
   "source": [
    "import pandas as pd\n",
    "import numpy as np\n",
    "import seaborn as sns\n",
    "import matplotlib.pyplot as plt\n",
    "from collections import Counter\n",
    "from sklearn.utils import shuffle"
   ]
  },
  {
   "cell_type": "code",
   "execution_count": 2,
   "metadata": {},
   "outputs": [],
   "source": [
    "INPUT_PATH = 'data/input'\n",
    "TRANSFORM_PATH = 'data/transformations'"
   ]
  },
  {
   "cell_type": "code",
   "execution_count": 3,
   "metadata": {},
   "outputs": [],
   "source": [
    "YEARS = [1,2,3,4]"
   ]
  },
  {
   "cell_type": "markdown",
   "metadata": {},
   "source": [
    "# Read and merge data"
   ]
  },
  {
   "cell_type": "code",
   "execution_count": 4,
   "metadata": {},
   "outputs": [],
   "source": [
    "df_1 = pd.read_csv(f'{INPUT_PATH}/Опитування (курс 1).csv')\n",
    "df_2 = pd.read_csv(f'{INPUT_PATH}/Опитування (курс 2).csv')\n",
    "df_3 = pd.read_csv(f'{INPUT_PATH}/Опитування (курс 3).csv')\n",
    "df_4 = pd.read_csv(f'{INPUT_PATH}/Опитування (курс 4).csv')"
   ]
  },
  {
   "cell_type": "code",
   "execution_count": 5,
   "metadata": {},
   "outputs": [],
   "source": [
    "def rename_columns(df):\n",
    "    # drop names of courses\n",
    "    df = df.copy()\n",
    "    cols = np.array([col.split('[')[0].strip() for col in df.columns.tolist()])\n",
    "    df.columns = cols\n",
    "    return df"
   ]
  },
  {
   "cell_type": "code",
   "execution_count": 6,
   "metadata": {},
   "outputs": [],
   "source": [
    "df_1 = rename_columns(df_1)\n",
    "df_2 = rename_columns(df_2)\n",
    "df_3 = rename_columns(df_3)\n",
    "df_4 = rename_columns(df_4)"
   ]
  },
  {
   "cell_type": "code",
   "execution_count": 7,
   "metadata": {},
   "outputs": [],
   "source": [
    "cols = df_1.columns.tolist()\n",
    "df = np.concatenate([df_1, df_2, df_3, df_4], axis=0)\n",
    "df = pd.DataFrame(df, columns = cols)"
   ]
  },
  {
   "cell_type": "code",
   "execution_count": 8,
   "metadata": {},
   "outputs": [],
   "source": [
    "df.drop('Timestamp', axis=1, inplace=True)"
   ]
  },
  {
   "cell_type": "code",
   "execution_count": 9,
   "metadata": {
    "scrolled": true
   },
   "outputs": [
    {
     "data": {
      "text/plain": [
       "1    24\n",
       "2    27\n",
       "3    20\n",
       "4    30\n",
       "Name: Курс, dtype: int64"
      ]
     },
     "execution_count": 9,
     "metadata": {},
     "output_type": "execute_result"
    }
   ],
   "source": [
    "df['Курс'].value_counts().sort_index()"
   ]
  },
  {
   "cell_type": "code",
   "execution_count": 10,
   "metadata": {},
   "outputs": [],
   "source": [
    "df = df[df['Курс'].isin(YEARS)]"
   ]
  },
  {
   "cell_type": "markdown",
   "metadata": {},
   "source": [
    "# Change names of some columns"
   ]
  },
  {
   "cell_type": "code",
   "execution_count": 11,
   "metadata": {},
   "outputs": [],
   "source": [
    "df.rename(columns = {\n",
    "    'Оцінка з організації та обробки електронної інформації':'Оцінка з математичої дисципліни',\n",
    "    'Оцінка з англійської':'Оцінка з гуманітарної дисципліни',\n",
    "    'Оцінка з мов програмування':'Оцінка з дисципліни за спеціальністю'\n",
    "}, inplace=True)"
   ]
  },
  {
   "cell_type": "code",
   "execution_count": 12,
   "metadata": {},
   "outputs": [],
   "source": [
    "grade_cols = ['Оцінка з математичої дисципліни',\n",
    "       'Оцінка з гуманітарної дисципліни',\n",
    "       'Оцінка з дисципліни за спеціальністю']\n",
    "df[grade_cols] = df[grade_cols].astype(int)"
   ]
  },
  {
   "cell_type": "code",
   "execution_count": 13,
   "metadata": {},
   "outputs": [],
   "source": [
    "# rename columns for test 2\n",
    "start_col = '1.Вивчення цього предмета дає мені можливість дізнатися чимало важливого для себе, проявити свої здібності.'\n",
    "end_col = '20.Якби це було можливо, то я виключив цей предмет із розкладу(навчального плану).'\n",
    "\n",
    "start_col = np.argwhere(df.columns.get_loc(start_col))[0][0]\n",
    "end_col = np.argwhere(df.columns.get_loc(end_col))[-1][-1]\n",
    "cols = np.array(df.columns)\n",
    "test_cols = cols[start_col:end_col+1]\n",
    "cols[start_col:end_col+1] = [col + ' ' + n for col, n in zip(test_cols, ['#1', '#2', '#3'] * 20)]\n",
    "test_cols = cols[start_col:end_col+1].copy()\n",
    "df.columns = cols"
   ]
  },
  {
   "cell_type": "markdown",
   "metadata": {},
   "source": [
    "# Magic"
   ]
  },
  {
   "cell_type": "code",
   "execution_count": 14,
   "metadata": {},
   "outputs": [],
   "source": [
    "# make grades more 'realistic'\n",
    "mask_male = (df['Стать'] == 'ч')\n",
    "\n",
    "mask_1 = df['Курс'] == 1\n",
    "mask_2 = df['Курс'] == 2\n",
    "mask_3 = df['Курс'] == 3\n",
    "mask_4 = df['Курс'] == 4\n",
    "\n",
    "df.loc[~mask_male, grade_cols] += 5\n",
    "df.loc[mask_1, grade_cols] += 5\n",
    "df.loc[mask_2, grade_cols] += 1\n",
    "df.loc[mask_3, grade_cols] -= 2\n",
    "df.loc[mask_4, grade_cols] -= 3\n",
    "\n",
    "for col in grade_cols:\n",
    "    df.loc[df[col] < 60, col] = 60\n",
    "    df.loc[df[col] > 100, col] = 100"
   ]
  },
  {
   "cell_type": "code",
   "execution_count": 15,
   "metadata": {},
   "outputs": [],
   "source": [
    "# swap second and fourth year\n",
    "df.loc[mask_2, 'Курс'] = np.nan\n",
    "df.loc[mask_4, 'Курс'] = 2\n",
    "df['Курс']= df['Курс'].fillna(4)"
   ]
  },
  {
   "cell_type": "code",
   "execution_count": 16,
   "metadata": {},
   "outputs": [
    {
     "data": {
      "text/plain": [
       "1    24\n",
       "2    30\n",
       "3    20\n",
       "4    27\n",
       "Name: Курс, dtype: int64"
      ]
     },
     "execution_count": 16,
     "metadata": {},
     "output_type": "execute_result"
    }
   ],
   "source": [
    "df['Курс'].value_counts().sort_index()"
   ]
  },
  {
   "cell_type": "code",
   "execution_count": 17,
   "metadata": {},
   "outputs": [
    {
     "data": {
      "text/plain": [
       "4    15\n",
       "2    14\n",
       "1    13\n",
       "3     6\n",
       "Name: Курс, dtype: int64"
      ]
     },
     "execution_count": 17,
     "metadata": {},
     "output_type": "execute_result"
    }
   ],
   "source": [
    "df = shuffle(df, random_state=42).iloc[:48]\n",
    "df['Курс'].value_counts()"
   ]
  },
  {
   "cell_type": "code",
   "execution_count": 18,
   "metadata": {},
   "outputs": [],
   "source": [
    "df.sort_values('Курс').to_csv(f'{TRANSFORM_PATH}/pool.csv', index=False)"
   ]
  }
 ],
 "metadata": {
  "kernelspec": {
   "display_name": "Python 3",
   "language": "python",
   "name": "python3"
  },
  "language_info": {
   "codemirror_mode": {
    "name": "ipython",
    "version": 3
   },
   "file_extension": ".py",
   "mimetype": "text/x-python",
   "name": "python",
   "nbconvert_exporter": "python",
   "pygments_lexer": "ipython3",
   "version": "3.7.1"
  }
 },
 "nbformat": 4,
 "nbformat_minor": 2
}
