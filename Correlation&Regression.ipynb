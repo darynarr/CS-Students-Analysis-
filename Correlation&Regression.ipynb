{
 "cells": [
  {
   "cell_type": "code",
   "execution_count": 1,
   "metadata": {},
   "outputs": [],
   "source": [
    "import pandas as pd\n",
    "import numpy as np\n",
    "import seaborn as sns\n",
    "import matplotlib.pyplot as plt\n",
    "from scipy.stats import rankdata\n",
    "from scipy import stats\n",
    "from sklearn.metrics import r2_score\n",
    "from sklearn.linear_model import LinearRegression"
   ]
  },
  {
   "cell_type": "code",
   "execution_count": 2,
   "metadata": {},
   "outputs": [],
   "source": [
    "pd.set_option('display.max_rows', 1000)\n",
    "pd.set_option('display.max_columns', 1000)"
   ]
  },
  {
   "cell_type": "code",
   "execution_count": 3,
   "metadata": {},
   "outputs": [],
   "source": [
    "sns.set(palette ='Set2', style = 'darkgrid')"
   ]
  },
  {
   "cell_type": "code",
   "execution_count": 4,
   "metadata": {},
   "outputs": [],
   "source": [
    "INPUT_PATH = 'data/input'\n",
    "TRANSFORM_PATH = 'data/transformations'"
   ]
  },
  {
   "cell_type": "code",
   "execution_count": 5,
   "metadata": {},
   "outputs": [],
   "source": [
    "df = pd.read_excel(f'{TRANSFORM_PATH}/tests results.xlsx')"
   ]
  },
  {
   "cell_type": "code",
   "execution_count": 6,
   "metadata": {},
   "outputs": [],
   "source": [
    "df_orig = df.copy()"
   ]
  },
  {
   "cell_type": "code",
   "execution_count": 7,
   "metadata": {
    "scrolled": true
   },
   "outputs": [
    {
     "data": {
      "text/html": [
       "<div>\n",
       "<style scoped>\n",
       "    .dataframe tbody tr th:only-of-type {\n",
       "        vertical-align: middle;\n",
       "    }\n",
       "\n",
       "    .dataframe tbody tr th {\n",
       "        vertical-align: top;\n",
       "    }\n",
       "\n",
       "    .dataframe thead th {\n",
       "        text-align: right;\n",
       "    }\n",
       "</style>\n",
       "<table border=\"1\" class=\"dataframe\">\n",
       "  <thead>\n",
       "    <tr style=\"text-align: right;\">\n",
       "      <th></th>\n",
       "      <th>Курс</th>\n",
       "      <th>Стать</th>\n",
       "      <th>Оцінка з математичої дисципліни</th>\n",
       "      <th>Оцінка з гуманітарної дисципліни</th>\n",
       "      <th>Оцінка з дисципліни за спеціальністю</th>\n",
       "      <th>Тест №1</th>\n",
       "      <th>Тест №1 рівень</th>\n",
       "      <th>Тест №2.а</th>\n",
       "      <th>Тест №2.б</th>\n",
       "      <th>Тест №2.в</th>\n",
       "      <th>Тест №2.а рівень</th>\n",
       "      <th>Тест №2.б рівень</th>\n",
       "      <th>Тест №2.в рівень</th>\n",
       "      <th>Тест №3.1</th>\n",
       "      <th>Тест №3.2</th>\n",
       "      <th>Тест №3.3</th>\n",
       "      <th>Тест №3.4</th>\n",
       "      <th>Тест №3.5</th>\n",
       "      <th>Тест №3.6</th>\n",
       "      <th>Тест №3.7</th>\n",
       "    </tr>\n",
       "  </thead>\n",
       "  <tbody>\n",
       "    <tr>\n",
       "      <th>0</th>\n",
       "      <td>1</td>\n",
       "      <td>ж</td>\n",
       "      <td>100</td>\n",
       "      <td>74</td>\n",
       "      <td>95</td>\n",
       "      <td>8</td>\n",
       "      <td>полюс не виражений</td>\n",
       "      <td>2</td>\n",
       "      <td>2</td>\n",
       "      <td>1</td>\n",
       "      <td>низький рівень внутрішньої мотивації</td>\n",
       "      <td>низький рівень внутрішньої мотивації</td>\n",
       "      <td>низький рівень внутрішньої мотивації</td>\n",
       "      <td>3.00</td>\n",
       "      <td>3.2</td>\n",
       "      <td>4.2</td>\n",
       "      <td>3.166667</td>\n",
       "      <td>3.0</td>\n",
       "      <td>3.428571</td>\n",
       "      <td>2.0</td>\n",
       "    </tr>\n",
       "    <tr>\n",
       "      <th>1</th>\n",
       "      <td>1</td>\n",
       "      <td>ч</td>\n",
       "      <td>86</td>\n",
       "      <td>80</td>\n",
       "      <td>88</td>\n",
       "      <td>7</td>\n",
       "      <td>уникнення невдачі</td>\n",
       "      <td>11</td>\n",
       "      <td>10</td>\n",
       "      <td>12</td>\n",
       "      <td>середній рівень внутрішньої мотивації</td>\n",
       "      <td>середній рівень внутрішньої мотивації</td>\n",
       "      <td>середній рівень внутрішньої мотивації</td>\n",
       "      <td>3.50</td>\n",
       "      <td>2.4</td>\n",
       "      <td>3.4</td>\n",
       "      <td>4.333333</td>\n",
       "      <td>4.0</td>\n",
       "      <td>4.000000</td>\n",
       "      <td>3.4</td>\n",
       "    </tr>\n",
       "    <tr>\n",
       "      <th>2</th>\n",
       "      <td>1</td>\n",
       "      <td>ж</td>\n",
       "      <td>82</td>\n",
       "      <td>94</td>\n",
       "      <td>89</td>\n",
       "      <td>9</td>\n",
       "      <td>полюс не виражений</td>\n",
       "      <td>15</td>\n",
       "      <td>8</td>\n",
       "      <td>8</td>\n",
       "      <td>високий рівень внутрішньої мотивації</td>\n",
       "      <td>середній рівень внутрішньої мотивації</td>\n",
       "      <td>середній рівень внутрішньої мотивації</td>\n",
       "      <td>3.75</td>\n",
       "      <td>3.2</td>\n",
       "      <td>3.8</td>\n",
       "      <td>4.833333</td>\n",
       "      <td>3.0</td>\n",
       "      <td>4.142857</td>\n",
       "      <td>3.4</td>\n",
       "    </tr>\n",
       "    <tr>\n",
       "      <th>3</th>\n",
       "      <td>1</td>\n",
       "      <td>ч</td>\n",
       "      <td>76</td>\n",
       "      <td>76</td>\n",
       "      <td>76</td>\n",
       "      <td>9</td>\n",
       "      <td>полюс не виражений</td>\n",
       "      <td>11</td>\n",
       "      <td>9</td>\n",
       "      <td>11</td>\n",
       "      <td>середній рівень внутрішньої мотивації</td>\n",
       "      <td>середній рівень внутрішньої мотивації</td>\n",
       "      <td>середній рівень внутрішньої мотивації</td>\n",
       "      <td>3.50</td>\n",
       "      <td>4.4</td>\n",
       "      <td>4.0</td>\n",
       "      <td>3.833333</td>\n",
       "      <td>4.5</td>\n",
       "      <td>3.714286</td>\n",
       "      <td>4.6</td>\n",
       "    </tr>\n",
       "    <tr>\n",
       "      <th>4</th>\n",
       "      <td>1</td>\n",
       "      <td>ж</td>\n",
       "      <td>71</td>\n",
       "      <td>71</td>\n",
       "      <td>71</td>\n",
       "      <td>6</td>\n",
       "      <td>уникнення невдачі</td>\n",
       "      <td>10</td>\n",
       "      <td>5</td>\n",
       "      <td>8</td>\n",
       "      <td>середній рівень внутрішньої мотивації</td>\n",
       "      <td>низький рівень внутрішньої мотивації</td>\n",
       "      <td>середній рівень внутрішньої мотивації</td>\n",
       "      <td>3.50</td>\n",
       "      <td>3.0</td>\n",
       "      <td>4.0</td>\n",
       "      <td>4.166667</td>\n",
       "      <td>3.5</td>\n",
       "      <td>4.000000</td>\n",
       "      <td>3.4</td>\n",
       "    </tr>\n",
       "  </tbody>\n",
       "</table>\n",
       "</div>"
      ],
      "text/plain": [
       "   Курс Стать  Оцінка з математичої дисципліни  \\\n",
       "0     1     ж                              100   \n",
       "1     1     ч                               86   \n",
       "2     1     ж                               82   \n",
       "3     1     ч                               76   \n",
       "4     1     ж                               71   \n",
       "\n",
       "   Оцінка з гуманітарної дисципліни  Оцінка з дисципліни за спеціальністю  \\\n",
       "0                                74                                    95   \n",
       "1                                80                                    88   \n",
       "2                                94                                    89   \n",
       "3                                76                                    76   \n",
       "4                                71                                    71   \n",
       "\n",
       "   Тест №1      Тест №1 рівень  Тест №2.а  Тест №2.б  Тест №2.в  \\\n",
       "0        8  полюс не виражений          2          2          1   \n",
       "1        7   уникнення невдачі         11         10         12   \n",
       "2        9  полюс не виражений         15          8          8   \n",
       "3        9  полюс не виражений         11          9         11   \n",
       "4        6   уникнення невдачі         10          5          8   \n",
       "\n",
       "                        Тест №2.а рівень  \\\n",
       "0   низький рівень внутрішньої мотивації   \n",
       "1  середній рівень внутрішньої мотивації   \n",
       "2   високий рівень внутрішньої мотивації   \n",
       "3  середній рівень внутрішньої мотивації   \n",
       "4  середній рівень внутрішньої мотивації   \n",
       "\n",
       "                        Тест №2.б рівень  \\\n",
       "0   низький рівень внутрішньої мотивації   \n",
       "1  середній рівень внутрішньої мотивації   \n",
       "2  середній рівень внутрішньої мотивації   \n",
       "3  середній рівень внутрішньої мотивації   \n",
       "4   низький рівень внутрішньої мотивації   \n",
       "\n",
       "                        Тест №2.в рівень  Тест №3.1  Тест №3.2  Тест №3.3  \\\n",
       "0   низький рівень внутрішньої мотивації       3.00        3.2        4.2   \n",
       "1  середній рівень внутрішньої мотивації       3.50        2.4        3.4   \n",
       "2  середній рівень внутрішньої мотивації       3.75        3.2        3.8   \n",
       "3  середній рівень внутрішньої мотивації       3.50        4.4        4.0   \n",
       "4  середній рівень внутрішньої мотивації       3.50        3.0        4.0   \n",
       "\n",
       "   Тест №3.4  Тест №3.5  Тест №3.6  Тест №3.7  \n",
       "0   3.166667        3.0   3.428571        2.0  \n",
       "1   4.333333        4.0   4.000000        3.4  \n",
       "2   4.833333        3.0   4.142857        3.4  \n",
       "3   3.833333        4.5   3.714286        4.6  \n",
       "4   4.166667        3.5   4.000000        3.4  "
      ]
     },
     "execution_count": 7,
     "metadata": {},
     "output_type": "execute_result"
    }
   ],
   "source": [
    "df.head()"
   ]
  },
  {
   "cell_type": "markdown",
   "metadata": {},
   "source": [
    "# Завдання 3/1 (Кореляційний аналіз)"
   ]
  },
  {
   "cell_type": "markdown",
   "metadata": {},
   "source": [
    "Взяти дві змінні для дослідження кореляційної залежності.\n",
    "- Для теста №1 за одну змінну взяти  дані деякої групи, в якості другої змінної взяти оцінки з математики \n",
    "- Для теста №2 за одну змінну взяти бали мотивації для математичного предмета, в якості другої змінної бали мотивації цих же студентів для гуманітарного предмета.\n",
    "- Для теста №3 за одну змінну взяти бали мотивації за шкалою “професійна діяльність”, в якості другої змінної бали мотивації цих же студентів для якоїсь іншої шкали.\n"
   ]
  },
  {
   "cell_type": "code",
   "execution_count": 8,
   "metadata": {},
   "outputs": [
    {
     "name": "stdout",
     "output_type": "stream",
     "text": [
      "Для завдання були взяті курси 1, 2.    Це 54 студенти\n"
     ]
    }
   ],
   "source": [
    "years = [1,2]\n",
    "df = df[df['Курс'].isin(years)]\n",
    "print(f'Для завдання були взяті курси {\", \".join(map(str, years))}.\\\n",
    "    Це {df.shape[0]} студенти')"
   ]
  },
  {
   "cell_type": "code",
   "execution_count": 9,
   "metadata": {},
   "outputs": [],
   "source": [
    "test_pairs = [\n",
    "    ('Тест №1', 'Оцінка з математичої дисципліни'),\n",
    "    ('Тест №2.а', 'Тест №2.в'),\n",
    "    ('Тест №3.4', 'Тест №3.2'),\n",
    "]"
   ]
  },
  {
   "cell_type": "markdown",
   "metadata": {},
   "source": [
    "### 1)\tЗнайти вибіркові коефіцієнту кореляції Пірсона, Спірмена та Кенделла та перевірити їхню значущість за допомогою параметричного критерію Пірсона та непараметричних Спірмена та Кенделла.\n",
    "### 2)\tЗастосувати пакет можливості Пайтона для знаходження коефіцієнту кореляції Пірсона, Спірмена та Кенделла і перевірки цих коефіцієнтів на значущість. "
   ]
  },
  {
   "cell_type": "code",
   "execution_count": 10,
   "metadata": {},
   "outputs": [],
   "source": [
    "def pearson_corr(x, y):\n",
    "    x, y = np.asarray(x), np.asarray(y)\n",
    "    assert(np.isnan(x).sum()+np.isnan(y).sum()==0)\n",
    "    assert(len(x) == len(y))\n",
    "    mu_x, mu_y = x.mean(), y.mean()\n",
    "    \n",
    "    return np.sum((x - mu_x) * (y - mu_y)) \\\n",
    "    /np.sqrt((sum((x - mu_x)**2) )* (sum((y - mu_y)**2)))\n",
    "\n",
    "def spearman_corr(x, y):\n",
    "    x, y = np.asarray(x), np.asarray(y)\n",
    "    assert(np.isnan(x).sum()+np.isnan(y).sum()==0)\n",
    "    assert(len(x) == len(y))\n",
    "    n = len(x)\n",
    "    rankmethod = 'average'\n",
    "    d = rankdata(x, rankmethod) - rankdata(y, rankmethod)\n",
    "#     print(d)\n",
    "#     print(rankdata(-x), rankdata(-y))\n",
    "    return 1 - 6 *(d**2).sum() / (n**3-n)\n",
    "\n",
    "def kendall_corr(x, y):\n",
    "    x, y = np.asarray(x), np.asarray(y)\n",
    "    assert(np.isnan(x).sum()+np.isnan(y).sum()==0)\n",
    "    assert(len(x) == len(y))\n",
    "    n = len(x)\n",
    "    x_rank, y_rank = rankdata(x), rankdata(y)\n",
    "    p, q, t, u, s = 0,0,0,0,0\n",
    "    for i in range(n-1):\n",
    "        x_i, y_i = x_rank[i], y_rank[i]\n",
    "        x_j, y_j = x_rank[i+1:], y_rank[i+1:]\n",
    "        p+=sum((y_i > y_j) & (x_i > x_j)) + sum((y_i < y_j) & (x_i < x_j))\n",
    "        q+=sum((y_i < y_j) & (x_i > x_j)) + sum((y_i > y_j) & (x_i < x_j))\n",
    "        t+=sum(x_i == x_j)\n",
    "        u+=sum(y_i == y_j)\n",
    "        s+=sum((x_i == x_j) & (y_i == y_j))\n",
    "\n",
    "    t, u = t-s, u-s\n",
    "    return (p-q) / np.sqrt((p+q+t) * (p+q+u))\n",
    "\n",
    "def p_val_corr(r, n):\n",
    "    df = n-2\n",
    "    t_val = (r * np.sqrt(df)) / np.sqrt(1-r**2)\n",
    "    return  (1 - stats.t.cdf(t_val,df=df))*2"
   ]
  },
  {
   "cell_type": "code",
   "execution_count": 11,
   "metadata": {},
   "outputs": [
    {
     "name": "stdout",
     "output_type": "stream",
     "text": [
      "\n",
      "\n",
      "ТЕСТ №1\n",
      "y - Тест №1, x - Оцінка з математичої дисципліни\n"
     ]
    },
    {
     "data": {
      "text/html": [
       "<div>\n",
       "<style scoped>\n",
       "    .dataframe tbody tr th:only-of-type {\n",
       "        vertical-align: middle;\n",
       "    }\n",
       "\n",
       "    .dataframe tbody tr th {\n",
       "        vertical-align: top;\n",
       "    }\n",
       "\n",
       "    .dataframe thead th {\n",
       "        text-align: right;\n",
       "    }\n",
       "</style>\n",
       "<table border=\"1\" class=\"dataframe\">\n",
       "  <thead>\n",
       "    <tr style=\"text-align: right;\">\n",
       "      <th></th>\n",
       "      <th>pearson</th>\n",
       "      <th>spearman</th>\n",
       "      <th>kendall</th>\n",
       "    </tr>\n",
       "    <tr>\n",
       "      <th>corr</th>\n",
       "      <th></th>\n",
       "      <th></th>\n",
       "      <th></th>\n",
       "    </tr>\n",
       "  </thead>\n",
       "  <tbody>\n",
       "    <tr>\n",
       "      <th>manual</th>\n",
       "      <td>0.236726</td>\n",
       "      <td>0.278178</td>\n",
       "      <td>0.201268</td>\n",
       "    </tr>\n",
       "    <tr>\n",
       "      <th>python</th>\n",
       "      <td>0.236726</td>\n",
       "      <td>0.272943</td>\n",
       "      <td>0.201268</td>\n",
       "    </tr>\n",
       "  </tbody>\n",
       "</table>\n",
       "</div>"
      ],
      "text/plain": [
       "         pearson  spearman   kendall\n",
       "corr                                \n",
       "manual  0.236726  0.278178  0.201268\n",
       "python  0.236726  0.272943  0.201268"
      ]
     },
     "metadata": {},
     "output_type": "display_data"
    },
    {
     "data": {
      "text/html": [
       "<div>\n",
       "<style scoped>\n",
       "    .dataframe tbody tr th:only-of-type {\n",
       "        vertical-align: middle;\n",
       "    }\n",
       "\n",
       "    .dataframe tbody tr th {\n",
       "        vertical-align: top;\n",
       "    }\n",
       "\n",
       "    .dataframe thead th {\n",
       "        text-align: right;\n",
       "    }\n",
       "</style>\n",
       "<table border=\"1\" class=\"dataframe\">\n",
       "  <thead>\n",
       "    <tr style=\"text-align: right;\">\n",
       "      <th></th>\n",
       "      <th>pearson</th>\n",
       "      <th>spearman</th>\n",
       "      <th>kendall</th>\n",
       "    </tr>\n",
       "    <tr>\n",
       "      <th>p_val</th>\n",
       "      <th></th>\n",
       "      <th></th>\n",
       "      <th></th>\n",
       "    </tr>\n",
       "  </thead>\n",
       "  <tbody>\n",
       "    <tr>\n",
       "      <th>manual</th>\n",
       "      <td>0.084805</td>\n",
       "      <td>0.041676</td>\n",
       "      <td>0.144459</td>\n",
       "    </tr>\n",
       "    <tr>\n",
       "      <th>python</th>\n",
       "      <td>0.084805</td>\n",
       "      <td>0.045839</td>\n",
       "      <td>0.144459</td>\n",
       "    </tr>\n",
       "  </tbody>\n",
       "</table>\n",
       "</div>"
      ],
      "text/plain": [
       "         pearson  spearman   kendall\n",
       "p_val                               \n",
       "manual  0.084805  0.041676  0.144459\n",
       "python  0.084805  0.045839  0.144459"
      ]
     },
     "metadata": {},
     "output_type": "display_data"
    },
    {
     "name": "stdout",
     "output_type": "stream",
     "text": [
      "\n",
      "\n",
      "ТЕСТ №2\n",
      "y - Тест №2.а, x - Тест №2.в\n"
     ]
    },
    {
     "data": {
      "text/html": [
       "<div>\n",
       "<style scoped>\n",
       "    .dataframe tbody tr th:only-of-type {\n",
       "        vertical-align: middle;\n",
       "    }\n",
       "\n",
       "    .dataframe tbody tr th {\n",
       "        vertical-align: top;\n",
       "    }\n",
       "\n",
       "    .dataframe thead th {\n",
       "        text-align: right;\n",
       "    }\n",
       "</style>\n",
       "<table border=\"1\" class=\"dataframe\">\n",
       "  <thead>\n",
       "    <tr style=\"text-align: right;\">\n",
       "      <th></th>\n",
       "      <th>pearson</th>\n",
       "      <th>spearman</th>\n",
       "      <th>kendall</th>\n",
       "    </tr>\n",
       "    <tr>\n",
       "      <th>corr</th>\n",
       "      <th></th>\n",
       "      <th></th>\n",
       "      <th></th>\n",
       "    </tr>\n",
       "  </thead>\n",
       "  <tbody>\n",
       "    <tr>\n",
       "      <th>manual</th>\n",
       "      <td>0.740098</td>\n",
       "      <td>0.692758</td>\n",
       "      <td>0.593878</td>\n",
       "    </tr>\n",
       "    <tr>\n",
       "      <th>python</th>\n",
       "      <td>0.740098</td>\n",
       "      <td>0.687442</td>\n",
       "      <td>0.593878</td>\n",
       "    </tr>\n",
       "  </tbody>\n",
       "</table>\n",
       "</div>"
      ],
      "text/plain": [
       "         pearson  spearman   kendall\n",
       "corr                                \n",
       "manual  0.740098  0.692758  0.593878\n",
       "python  0.740098  0.687442  0.593878"
      ]
     },
     "metadata": {},
     "output_type": "display_data"
    },
    {
     "data": {
      "text/html": [
       "<div>\n",
       "<style scoped>\n",
       "    .dataframe tbody tr th:only-of-type {\n",
       "        vertical-align: middle;\n",
       "    }\n",
       "\n",
       "    .dataframe tbody tr th {\n",
       "        vertical-align: top;\n",
       "    }\n",
       "\n",
       "    .dataframe thead th {\n",
       "        text-align: right;\n",
       "    }\n",
       "</style>\n",
       "<table border=\"1\" class=\"dataframe\">\n",
       "  <thead>\n",
       "    <tr style=\"text-align: right;\">\n",
       "      <th></th>\n",
       "      <th>pearson</th>\n",
       "      <th>spearman</th>\n",
       "      <th>kendall</th>\n",
       "    </tr>\n",
       "    <tr>\n",
       "      <th>p_val</th>\n",
       "      <th></th>\n",
       "      <th></th>\n",
       "      <th></th>\n",
       "    </tr>\n",
       "  </thead>\n",
       "  <tbody>\n",
       "    <tr>\n",
       "      <th>manual</th>\n",
       "      <td>1.607354e-10</td>\n",
       "      <td>6.470039e-09</td>\n",
       "      <td>0.000002</td>\n",
       "    </tr>\n",
       "    <tr>\n",
       "      <th>python</th>\n",
       "      <td>1.607354e-10</td>\n",
       "      <td>9.380078e-09</td>\n",
       "      <td>0.000002</td>\n",
       "    </tr>\n",
       "  </tbody>\n",
       "</table>\n",
       "</div>"
      ],
      "text/plain": [
       "             pearson      spearman   kendall\n",
       "p_val                                       \n",
       "manual  1.607354e-10  6.470039e-09  0.000002\n",
       "python  1.607354e-10  9.380078e-09  0.000002"
      ]
     },
     "metadata": {},
     "output_type": "display_data"
    },
    {
     "name": "stdout",
     "output_type": "stream",
     "text": [
      "\n",
      "\n",
      "ТЕСТ №3\n",
      "y - Тест №3.4, x - Тест №3.2\n"
     ]
    },
    {
     "data": {
      "text/html": [
       "<div>\n",
       "<style scoped>\n",
       "    .dataframe tbody tr th:only-of-type {\n",
       "        vertical-align: middle;\n",
       "    }\n",
       "\n",
       "    .dataframe tbody tr th {\n",
       "        vertical-align: top;\n",
       "    }\n",
       "\n",
       "    .dataframe thead th {\n",
       "        text-align: right;\n",
       "    }\n",
       "</style>\n",
       "<table border=\"1\" class=\"dataframe\">\n",
       "  <thead>\n",
       "    <tr style=\"text-align: right;\">\n",
       "      <th></th>\n",
       "      <th>pearson</th>\n",
       "      <th>spearman</th>\n",
       "      <th>kendall</th>\n",
       "    </tr>\n",
       "    <tr>\n",
       "      <th>corr</th>\n",
       "      <th></th>\n",
       "      <th></th>\n",
       "      <th></th>\n",
       "    </tr>\n",
       "  </thead>\n",
       "  <tbody>\n",
       "    <tr>\n",
       "      <th>manual</th>\n",
       "      <td>0.149475</td>\n",
       "      <td>0.150353</td>\n",
       "      <td>0.109268</td>\n",
       "    </tr>\n",
       "    <tr>\n",
       "      <th>python</th>\n",
       "      <td>0.149475</td>\n",
       "      <td>0.140972</td>\n",
       "      <td>0.109268</td>\n",
       "    </tr>\n",
       "  </tbody>\n",
       "</table>\n",
       "</div>"
      ],
      "text/plain": [
       "         pearson  spearman   kendall\n",
       "corr                                \n",
       "manual  0.149475  0.150353  0.109268\n",
       "python  0.149475  0.140972  0.109268"
      ]
     },
     "metadata": {},
     "output_type": "display_data"
    },
    {
     "data": {
      "text/html": [
       "<div>\n",
       "<style scoped>\n",
       "    .dataframe tbody tr th:only-of-type {\n",
       "        vertical-align: middle;\n",
       "    }\n",
       "\n",
       "    .dataframe tbody tr th {\n",
       "        vertical-align: top;\n",
       "    }\n",
       "\n",
       "    .dataframe thead th {\n",
       "        text-align: right;\n",
       "    }\n",
       "</style>\n",
       "<table border=\"1\" class=\"dataframe\">\n",
       "  <thead>\n",
       "    <tr style=\"text-align: right;\">\n",
       "      <th></th>\n",
       "      <th>pearson</th>\n",
       "      <th>spearman</th>\n",
       "      <th>kendall</th>\n",
       "    </tr>\n",
       "    <tr>\n",
       "      <th>p_val</th>\n",
       "      <th></th>\n",
       "      <th></th>\n",
       "      <th></th>\n",
       "    </tr>\n",
       "  </thead>\n",
       "  <tbody>\n",
       "    <tr>\n",
       "      <th>manual</th>\n",
       "      <td>0.280684</td>\n",
       "      <td>0.277837</td>\n",
       "      <td>0.431562</td>\n",
       "    </tr>\n",
       "    <tr>\n",
       "      <th>python</th>\n",
       "      <td>0.280684</td>\n",
       "      <td>0.309259</td>\n",
       "      <td>0.431562</td>\n",
       "    </tr>\n",
       "  </tbody>\n",
       "</table>\n",
       "</div>"
      ],
      "text/plain": [
       "         pearson  spearman   kendall\n",
       "p_val                               \n",
       "manual  0.280684  0.277837  0.431562\n",
       "python  0.280684  0.309259  0.431562"
      ]
     },
     "metadata": {},
     "output_type": "display_data"
    }
   ],
   "source": [
    "for k, (y_name, x_name) in enumerate(test_pairs):\n",
    "    print(f'\\n\\nТЕСТ №{k+1}')\n",
    "    x, y = df[x_name], df[y_name]\n",
    "    print(f'y - {y_name}, x - {x_name}')\n",
    "    \n",
    "    # manual calculations\n",
    "    r = pearson_corr(x, y)\n",
    "    ro = spearman_corr(x, y)\n",
    "    tau = kendall_corr(x, y)\n",
    "    \n",
    "    # using scipy\n",
    "    pearson = stats.pearsonr(x,y)\n",
    "    spearman = stats.spearmanr(x,y)\n",
    "    kendall = stats.kendalltau(x,y)\n",
    "    \n",
    "    cor_methods = ['pearson', 'spearman', 'kendall']\n",
    "\n",
    "    df_res_corr = pd.DataFrame(\n",
    "        index = ['manual', 'python'], \n",
    "        columns = cor_methods,\n",
    "        data = [[r, ro, tau], [pearson[0], spearman[0], kendall[0]]]\n",
    "    )\n",
    "    \n",
    "#     df_res_pval = df_res_corr.copy()\n",
    "#     df_res_pval.loc['manual'] = df_res_corr.loc['manual'].apply(lambda x: p_val_corr(x, df.shape[0]))\n",
    "#     df_res_pval.loc['python'] = [pearson[1], spearman[1], kendall[1]]\n",
    "    df_res_pval = df_res_corr.apply(lambda x: p_val_corr(x, df.shape[0])).copy()\n",
    "\n",
    "    \n",
    "    df_res_corr.index.name = 'corr'\n",
    "    df_res_pval.index.name = 'p_val'\n",
    "\n",
    "    display(df_res_corr)\n",
    "    display(df_res_pval)"
   ]
  },
  {
   "cell_type": "markdown",
   "metadata": {},
   "source": [
    "Кореляція та показники значущості Пірсона та Кенделла співпадають повністю, Спірмена - з точністю до сотих.\n",
    "\n",
    "Загалом, маємо високий показник всіх типів кореляції для другого тесту, також можемо стверджувати, що кореліція є значимою для цього тесту і не дорівнює 0 (p_value < 0.05).\n",
    "\n",
    "Також, кореляція Спірмана не є нульовою в першому тесті (p_value < 0.05), але значної кореляції між першими тестом і оцінкою з математики немає.\n",
    "\n",
    "Кореляція між всіма парами х та у є додатньою, отже всюди залежність є позитивною."
   ]
  },
  {
   "cell_type": "markdown",
   "metadata": {},
   "source": [
    "# Завдання 3/2 (Регресійний аналіз):"
   ]
  },
  {
   "cell_type": "code",
   "execution_count": 12,
   "metadata": {},
   "outputs": [],
   "source": [
    "y, x = df['Тест №2.а'], df['Тест №2.в']"
   ]
  },
  {
   "cell_type": "markdown",
   "metadata": {},
   "source": [
    "### 3)\tПобудувати регресійну модель залежності однієї змінної  від іншої метоом найменших квадратів та за умови відомого коефіцієнта кореляції Пірсона. "
   ]
  },
  {
   "cell_type": "code",
   "execution_count": 13,
   "metadata": {},
   "outputs": [
    {
     "name": "stdout",
     "output_type": "stream",
     "text": [
      "y - Тест №2.а, x - Тест №2.в\n"
     ]
    }
   ],
   "source": [
    "print(f'y - {y.name}, x - {x.name}')"
   ]
  },
  {
   "cell_type": "code",
   "execution_count": 14,
   "metadata": {},
   "outputs": [],
   "source": [
    "class MyLinReg():\n",
    "    def _init_(self):\n",
    "        return\n",
    "    \n",
    "    def _corr(self):\n",
    "        return stats.pearsonr(self.x, self.y)[0]\n",
    "\n",
    "    def _slope(self):\n",
    "        return self.corr * np.std(self.y) / np.std(self.x)\n",
    "\n",
    "    def _intercept(self):\n",
    "        return np.mean(self.y) - self.slope * np.mean(self.x)\n",
    "\n",
    "    def fit(self, X:pd.Series, Y:pd.Series):\n",
    "        self.x = X.copy()\n",
    "        self.y = Y.copy()\n",
    "        self.n = len(self.x)\n",
    "        self.df = self.n - 2\n",
    "        self.corr = self._corr()\n",
    "        self.slope = self._slope()\n",
    "        self.intercept = self._intercept()\n"
   ]
  },
  {
   "cell_type": "code",
   "execution_count": 15,
   "metadata": {},
   "outputs": [
    {
     "name": "stdout",
     "output_type": "stream",
     "text": [
      "a = 4.2690, b = 0.6347\n",
      "Рівняння регресії має вигляд: y = 4.2690 + 0.6347 * x\n"
     ]
    }
   ],
   "source": [
    "reg = MyLinReg()\n",
    "reg.fit(x, y)\n",
    "print(f'a = {reg.intercept:.4f}, b = {reg.slope:.4f}')\n",
    "print(f'Рівняння регресії має вигляд: y = {reg.intercept:.4f} + {reg.slope:.4f} * x')"
   ]
  },
  {
   "cell_type": "markdown",
   "metadata": {},
   "source": [
    "### 4)\tПобудувати регресійну модель в Пайтоні,  провести аналіз залишків різними методами. "
   ]
  },
  {
   "cell_type": "code",
   "execution_count": 16,
   "metadata": {},
   "outputs": [
    {
     "data": {
      "text/plain": [
       "LinearRegression(copy_X=True, fit_intercept=True, n_jobs=None, normalize=False)"
      ]
     },
     "execution_count": 16,
     "metadata": {},
     "output_type": "execute_result"
    }
   ],
   "source": [
    "reg = LinearRegression()\n",
    "reg.fit(pd.DataFrame(x), y)"
   ]
  },
  {
   "cell_type": "code",
   "execution_count": 17,
   "metadata": {},
   "outputs": [
    {
     "name": "stdout",
     "output_type": "stream",
     "text": [
      "a = 4.2690, b = 0.6347\n"
     ]
    }
   ],
   "source": [
    "print(f'a = {reg.intercept_:.4f}, b = {reg.coef_[0]:.4f}')"
   ]
  },
  {
   "cell_type": "markdown",
   "metadata": {},
   "source": [
    "Коефіцієнти пораховані за допомогою бібліотеки sklearn співпадають з порахованими вручну."
   ]
  },
  {
   "cell_type": "code",
   "execution_count": 18,
   "metadata": {},
   "outputs": [],
   "source": [
    "y_pred = reg.predict(pd.DataFrame(x))"
   ]
  },
  {
   "cell_type": "markdown",
   "metadata": {},
   "source": [
    "Побудуємо пряму за рівнянням отриманим вище."
   ]
  },
  {
   "cell_type": "code",
   "execution_count": 19,
   "metadata": {},
   "outputs": [
    {
     "data": {
      "text/plain": [
       "<matplotlib.axes._subplots.AxesSubplot at 0x2a3588ae198>"
      ]
     },
     "execution_count": 19,
     "metadata": {},
     "output_type": "execute_result"
    },
    {
     "data": {
      "image/png": "[encoded data removed]",
      "text/plain": [
       "<Figure size 432x288 with 1 Axes>"
      ]
     },
     "metadata": {},
     "output_type": "display_data"
    }
   ],
   "source": [
    "sns.scatterplot(x, y)\n",
    "sns.lineplot(x, y_pred)"
   ]
  },
  {
   "cell_type": "markdown",
   "metadata": {},
   "source": [
    "З рисунку видно, що загагом модель правильно \"вхоплює\" напрям, але має не дуже гарну прогнозну силу.\n",
    "\n",
    "Загалом, схоже, що нелінійна модель може описати краще ці дані (наприклад y = a+b*sqrt(x))."
   ]
  },
  {
   "cell_type": "code",
   "execution_count": 20,
   "metadata": {},
   "outputs": [],
   "source": [
    "y, y_pred = np.asarray(y), np.asarray(y_pred)\n",
    "\n",
    "df_res = pd.Series(data={\n",
    "    'SSE': sum((y - y_pred)**2),\n",
    "    'SST': sum((y - y.mean())**2),\n",
    "    'SSR': sum((y_pred - y.mean())**2),\n",
    "})\n",
    "\n",
    "df_res['R^2'] = 1 -  df_res['SSE'] / df_res['SST']\n",
    "df_res['r'] = np.sqrt(df_res['R^2'])"
   ]
  },
  {
   "cell_type": "code",
   "execution_count": 21,
   "metadata": {},
   "outputs": [
    {
     "data": {
      "text/plain": [
       "SSE    317.859759\n",
       "SST    702.833333\n",
       "SSR    384.973574\n",
       "R^2      0.547745\n",
       "r        0.740098\n",
       "dtype: float64"
      ]
     },
     "execution_count": 21,
     "metadata": {},
     "output_type": "execute_result"
    }
   ],
   "source": [
    "df_res"
   ]
  },
  {
   "cell_type": "markdown",
   "metadata": {},
   "source": [
    "З статистик наведених вище, можна сказати, що лінійна регресія не дуже підходить для цих даних."
   ]
  },
  {
   "cell_type": "code",
   "execution_count": null,
   "metadata": {},
   "outputs": [],
   "source": []
  }
 ],
 "metadata": {
  "kernelspec": {
   "display_name": "Python 3",
   "language": "python",
   "name": "python3"
  },
  "language_info": {
   "codemirror_mode": {
    "name": "ipython",
    "version": 3
   },
   "file_extension": ".py",
   "mimetype": "text/x-python",
   "name": "python",
   "nbconvert_exporter": "python",
   "pygments_lexer": "ipython3",
   "version": "3.7.3"
  }
 },
 "nbformat": 4,
 "nbformat_minor": 2
}
